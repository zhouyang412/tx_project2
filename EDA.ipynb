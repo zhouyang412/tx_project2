{
 "cells": [
  {
   "cell_type": "code",
   "execution_count": 13,
   "metadata": {},
   "outputs": [],
   "source": [
    "import pandas as pd\n",
    "import json\n",
    "import re"
   ]
  },
  {
   "cell_type": "code",
   "execution_count": 15,
   "metadata": {},
   "outputs": [],
   "source": [
    "with open('./files/服饰数据.json', 'r')as f:\n",
    "    data = f.readlines()"
   ]
  },
  {
   "cell_type": "code",
   "execution_count": 19,
   "metadata": {},
   "outputs": [
    {
     "name": "stdout",
     "output_type": "stream",
     "text": [
      "249769         \"ocr\": \"色泽明朗，细节，产品信，色泽清晰明朗，在阳光的照耀下更显夺目，的热情活泼，大胆创新的融合了缤纷，给人以良好的印，材料与设计相配合，时尚与品牌相融合，把你的品位细节彰显得淋漓尽致，色彩与花朵，创造出活泼明亮、优雅，颜色展示，2、切忌暴晒，高温，雨淋，重压，碰刮，潮湿和接触性油性物质及化学溶剂，态度，制作出一件又一件作品，异域风情、虹彩色调、快乐花朵，，结合了东方文化的沉稳意境、拉丁民族，独特的作品，其设计风格为自由空间、，4、在化妆、洗澡时也应该将手机壳放到一边，以免化妆品沐浴露等化学药剂腐蚀，(保养建议)\",\n",
      "\n"
     ]
    }
   ],
   "source": [
    "for idx, d in enumerate(data):\n",
    "    if '沐浴露' in d:\n",
    "        print(idx,d)\n",
    "        break"
   ]
  },
  {
   "cell_type": "code",
   "execution_count": 22,
   "metadata": {
    "scrolled": false
   },
   "outputs": [
    {
     "data": {
      "text/plain": [
       "['            \"适用年龄\": \"25-29周岁\",\\n',\n",
       " '            \"腰型\": \"宽松腰\",\\n',\n",
       " '            \"廓形\": \"H型\",\\n',\n",
       " '            \"领型\": \"其它\",\\n',\n",
       " '            \"裙型\": \"一步裙\",\\n',\n",
       " '            \"袖长\": \"长袖\",\\n',\n",
       " '            \"流行元素\": \"纽扣\",\\n',\n",
       " '            \"组合形式\": \"假两件\",\\n',\n",
       " '            \"上市时间\": \"2019年冬季\",\\n',\n",
       " '            \"材质\": \"聚酯纤维\"\\n',\n",
       " '        },\\n',\n",
       " '        \"ocr\": \"连衣裙闪光点，斜纹面料，纯色斜纹内衬，手感丝滑，亲肤穿着很享受，玫瑰金珍珠大纽扣让人忍不住多看两眼，，新优雅气质不能忽视，喇叭袖也很傲娇，直筒裙单排扣，尖领翻领设计，还有两个系带，有几分领带的即视感，清，香风再现，对称直插大口袋，很温婉的小姐姐feel，厚薄:，柔软:偏硬，版型:修身，弹性:，弹力，适中，柔软，微弹，薄款，宽大，厚款，加厚，无弹，宽松，透视，较透\",\\n',\n",
       " '        \"reference\": \"粗花呢面料，质感挺括不易皱，再现经典的小香风，配上纯色斜纹内衬，手感丝滑柔软，穿着亲肤很享受。尖领翻领的设计，点缀上系带，有几分领带即视感，尽显清新雅致的气质。\"\\n',\n",
       " '    },\\n',\n",
       " '    \"289\": {\\n',\n",
       " '        \"title\": \"三彩 冬季 新款 毛呢 休闲裤 直 筒裤 通勤 纯色 羊毛 裤子 长裤 女 咖啡\",\\n',\n",
       " '        \"kb\": {\\n',\n",
       " '            \"流行元素\": \"口袋\",\\n',\n",
       " '            \"裤门襟\": \"拉链\",\\n',\n",
       " '            \"面料\": \"羊毛\",\\n',\n",
       " '            \"裤长\": \"长裤\",\\n',\n",
       " '            \"材质\": \"羊毛\",\\n',\n",
       " '            \"裤型\": \"直筒裤\",\\n',\n",
       " '            \"组合形式\": \"单件\",\\n',\n",
       " '            \"上市时间\": \"2019年冬季\",\\n',\n",
       " '            \"厚度\": \"常规\",\\n',\n",
       " '            \"风格\": \"简约\",\\n',\n",
       " '            \"腰型\": \"自然腰\",\\n',\n",
       " '            \"适用年龄\": \"25-29周岁\",\\n',\n",
       " '            \"弹力\": \"无弹力\"\\n',\n",
       " '        },\\n',\n",
       " '        \"ocr\": \"秋冬好物毛呢直筒裤，显瘦不挑人保暖毛呢裤，毛呢面料，显瘦，臀部和裤腿维度刚好，不显臀部和大腿肉肉，直筒，纽扣开合，，收腰剪裁，弧形贴合腰身，舒适显瘦，耐磨不易变形，实穿精致，直筒裤脚，加宽收边，车缝细致，对称斜插口袋，实用细节不能，加长腰袢，，厚薄:，柔软:偏硬，版型:修身，弹性:，弹力，适中，柔软，微弹，薄款，宽大，厚款，加厚，无弹，宽松，透视，较透\",\\n',\n",
       " '        \"reference\": \"这款休闲裤采用了咖啡的主打色，易于搭配，复古味十足，搭配衬衣或大衣，能营造出通勤风，直筒的设计，也不显腿型，九分的长度，露出脚踝，还具有显瘦的效果。\"\\n',\n",
       " '    },\\n',\n",
       " '    \"290\": {\\n',\n",
       " '        \"title\": \"哥伦比亚 户外 19新品 秋冬 女子 奥米 热能 保暖 针织 裤\",\\n',\n",
       " '        \"kb\": {\\n',\n",
       " '            \"类别\": \"其它\",\\n',\n",
       " '            \"上市时间\": \"2019年秋冬\",\\n',\n",
       " '            \"适用人群\": \"女士\",\\n',\n",
       " '            \"裤长\": \"长裤\",\\n',\n",
       " '            \"材质\": \"其它\"\\n',\n",
       " '        },\\n',\n",
       " '        \"ocr\": \"城市户外，核心科技，模特展示，商品信息，角度展示，保暖锁温，颜色展示，女子户外运动针织裤，细节展示，膝部立体设，裆部三角设计，产品信息展示，模特信息，两侧插手口袋，I弹力面料，旅行/都市，刺绣LOGO，有效锁住身体热量，侧面，颜色:464，颜色:010，颜色:060，背面，修饰腿部线条，方便户外运动，奥米.热能反射技术，厚度指数:，安心放置随身小物件，增加裆底宽度和空间，提升运，提供商品细节详情及洗涤说明，反射和存贮热能，提升保暖效果，人体工学设计，适应膝部运动，展示细节品质，时尚刺绣logo，，中国制造，优良舒适面料，弹性良好，商品材质:面料:84%棉16%聚苯纤，与相似颜色的制品一，号型:160/62A，洗涤说明:请轻柔水洗30°，不可漂白，低温干衣，不可干洗，低温熨120，版型:，干燥后尽快(从设备中)，身高，高弹，不可使用柔软剂，面料:84%，请勿熨烫该部位，腰围，如有印花等装饰，较厚，胸围，胸围，取出，修身\",\\n',\n",
       " '        \"reference\": \"选择一款比较贴合的休闲裤，搭配一双白色的运动鞋，既不臃肿，也非常有时尚感。北极狐户外休闲运动裤，版型舒适，适合多种户外运动，细节之处更显档次。\"\\n',\n",
       " '    },\\n',\n",
       " '    \"291\": {\\n',\n",
       " '        \"title\": \"婉甸 巧克力 色 慢跑 长裤 冬 新品 侧边 织带 抽绳 休闲裤 巧克力 色\",\\n',\n",
       " '        \"kb\": {\\n',\n",
       " '            \"风格\": \"简约\",\\n',\n",
       " '            \"组合形式\": \"单件\",\\n',\n",
       " '            \"裤型\": \"直筒裤\",\\n',\n",
       " '            \"厚度\": \"加厚\",\\n',\n",
       " '            \"适用年龄\": \"25-29周岁\",\\n',\n",
       " '            \"裤长\": \"长裤\",\\n',\n",
       " '            \"流行元素\": \"抽绳\",\\n',\n",
       " '            \"上市时间\": \"2019年冬季\",\\n',\n",
       " '            \"面料\": \"其它\",\\n',\n",
       " '            \"弹力\": \"微弹\",\\n',\n",
       " '            \"材质\": \"聚酯纤维\",\\n',\n",
       " '            \"腰型\": \"自然腰\"\\n',\n",
       " '        },\\n',\n",
       " '        \"ocr\": \"腰围，柔软/舒适/细密，搭配推荐，胸围，吊牌图展示，洗涤标志，金色编织条，高温度110℃，不可干洗(注:分开洗，零售价:699元，侧边织带拼接，质量等级:合格品，设计亮点，背面展示，模特展示，检验:，安全技术类别:，品名:惕跑裤，平铺细节，模特信息，体重:50公斤，产地:安徽合肥，衣服展示图，图示，(罗纹、织带除外，颜色:1巧克力色\",\\n',\n",
       " '        \"reference\": \"裤身一侧有撞色织带，丰富裤身层次感，有几分运动风韵味。脚口罗纹收口，修饰腿部线条，防止冷风进入。对称两侧有插袋，能插手耍帅，也能放置随身小物。\"\\n',\n",
       " '    },\\n',\n",
       " '    \"292\": {\\n',\n",
       " '        \"title\": \"超值 秒杀 烟花 烫 纯色 毛衣 外套 女 春季 新款 复古 文艺 网纱 拼接 针织衫 玉虹 白色\",\\n',\n",
       " '        \"kb\": {\\n',\n",
       " '            \"流行元素\": \"纱网\",\\n',\n",
       " '            \"衣长\": \"常规款\",\\n',\n",
       " '            \"版型\": \"宽松型\",\\n',\n",
       " '            \"图案\": \"纯色\",\\n',\n",
       " '            \"衣门襟\": \"单排扣\",\\n',\n",
       " '            \"领型\": \"半开领\",\\n',\n",
       " '            \"袖型\": \"常规袖\",\\n',\n",
       " '            \"材质\": \"棉\",\\n',\n",
       " '            \"袖长\": \"长袖\",\\n',\n",
       " '            \"风格\": \"百搭\",\\n',\n",
       " '            \"组合形式\": \"单件\",\\n',\n",
       " '            \"类型\": \"其它\",\\n',\n",
       " '            \"适用年龄\": \"30-34周岁\",\\n',\n",
       " '            \"厚度\": \"常规\",\\n',\n",
       " '            \"上市时间\": \"2020年春季\"\\n',\n",
       " '        },\\n',\n",
       " '        \"ocr\": \"档案，绣花花，质感纽，领口、深浅拼接网纱绣花小花边，绣线细密，小花立体感强，甜美减龄，质感纽扣，凸显品质，俏皮又活泼可爱，所有图片均系烟花烫拍摄制作，，反面展示，1细节之美，正面展示，自然阳光下比较会鲜艳请结合参考，款名，色差说明，模特展现，颜色，产品信息\",\\n',\n",
       " '        \"reference\": \"采用桃心领设计，显露迷人锁骨，修饰颈部曲线，让你轻松驾驭各种场合。自带绣花花边点缀，绣线细密，小花立体感强，甜美减龄。精选腈纶、锦纶面料制作，触感柔软细腻，带给你更舒适的穿着感。\"\\n',\n",
       " '    },\\n',\n",
       " '    \"293\": {\\n',\n",
       " '        \"title\": \"秋水伊人 毛衣 秋装 新款 女装 木 耳边 撞色领 花瓣 袖 针织衫 上衣 女 粉红\",\\n',\n",
       " '        \"kb\": {\\n',\n",
       " '            \"组合形式\": \"单件\",\\n',\n",
       " '            \"衣门襟\": \"系带\",\\n',\n",
       " '            \"适用年龄\": \"25-29周岁\",\\n',\n",
       " '            \"上市时间\": \"2019年冬季\",\\n',\n",
       " '            \"袖型\": \"常规袖\",\\n',\n",
       " '            \"风格\": \"通勤\",\\n',\n",
       " '            \"领型\": \"圆领\",\\n',\n",
       " '            \"材质\": \"聚酯纤维\",\\n',\n",
       " '            \"图案\": \"拼色\",\\n',\n",
       " '            \"版型\": \"宽松型\",\\n']"
      ]
     },
     "execution_count": 22,
     "metadata": {},
     "output_type": "execute_result"
    }
   ],
   "source": [
    "data[5000: 5100]"
   ]
  },
  {
   "cell_type": "code",
   "execution_count": 12,
   "metadata": {},
   "outputs": [],
   "source": [
    "d = ''\n",
    "for i in data:\n",
    "    d += i"
   ]
  },
  {
   "cell_type": "code",
   "execution_count": 15,
   "metadata": {},
   "outputs": [],
   "source": [
    "x = json.loads(d)"
   ]
  },
  {
   "cell_type": "code",
   "execution_count": 17,
   "metadata": {},
   "outputs": [],
   "source": [
    "from collections import Counter"
   ]
  },
  {
   "cell_type": "code",
   "execution_count": 18,
   "metadata": {},
   "outputs": [],
   "source": [
    "counter = Counter()"
   ]
  },
  {
   "cell_type": "code",
   "execution_count": 43,
   "metadata": {},
   "outputs": [],
   "source": [
    "from collections import Counter\n",
    "\n",
    "import numpy as np\n",
    "\n",
    "\n",
    "class Vocab(object):\n",
    "    PAD = 0\n",
    "    SOS = 1\n",
    "    EOS = 2\n",
    "    UNK = 3\n",
    "\n",
    "    def __init__(self):\n",
    "        self.word2index = {}\n",
    "        self.index2word = {}\n",
    "        self.word2count = Counter()\n",
    "        self.reserved = ['<PAD>', '<SOS>', '<EOS>', '<UNK>']\n",
    "#         self.index2word = self.reserved[:]\n",
    "        self.embeddings = None\n",
    "        self.idx = 4\n",
    "        \n",
    "        \n",
    "    def add_words(self, words):\n",
    "        \"\"\"Add a new token to the vocab and do mapping between word and index.\n",
    "\n",
    "        Args:\n",
    "            words (list): The list of tokens to be added.\n",
    "        \"\"\"\n",
    "        ###########################################\n",
    "        #          TODO: module 1 task 1          #\n",
    "        ###########################################\n",
    "        \n",
    "        for word in words:\n",
    "            self.word2index[word] = self.word2index.get(word, self.idx)\n",
    "            self.index2word[self.idx] = word\n",
    "            self.reserved.append(word)\n",
    "            self.word2count.update(word)\n",
    "            self.idx += 1\n",
    "            \n",
    "\n",
    "    def load_embeddings(self, file_path: str, dtype=np.float32) -> int:\n",
    "        \"\"\"Load embedding word vector.\n",
    "\n",
    "        Args:\n",
    "            file_path (str): The file path of word vector to load.\n",
    "            dtype (numpy dtype, optional): Defaults to np.float32.\n",
    "\n",
    "        Returns:\n",
    "            int: Number of embedded tokens.\n",
    "        \"\"\"\n",
    "        num_embeddings = 0\n",
    "        vocab_size = len(self)\n",
    "        with open(file_path, 'rb') as f:\n",
    "            for line in f:\n",
    "                line = line.split()\n",
    "                word = line[0].decode('utf-8')\n",
    "                idx = self.word2index.get(word)\n",
    "                # Check whether the token is in the vocab.\n",
    "                # 如果在词表中就更新embeddings\n",
    "                if idx is not None:\n",
    "                    vec = np.array(line[1:], dtype=dtype)\n",
    "                    if self.embeddings is None:\n",
    "                        # Get embedding dimension.\n",
    "                        n_dims = len(vec)\n",
    "                        # Initialize word vectors.\n",
    "                        self.embeddings = np.random.normal(\n",
    "                            np.zeros((vocab_size, n_dims))).astype(dtype)\n",
    "                        pad_idx = self.word2index['<PAD>']\n",
    "                        self.embeddings[pad_idx] = np.zeros(n_dims)\n",
    "                    # 更新embeddings，key为对应的wordidx，value为词向量    \n",
    "                    # self.embeddings --> {word_id1:word1_vec, word_idx2:word2_vec...}\n",
    "                    self.embeddings[idx] = vec\n",
    "                    num_embeddings += 1\n",
    "        return num_embeddings\n",
    "\n",
    "    def __getitem__(self, item):\n",
    "        if type(item) is int:\n",
    "            return self.index2word[item]\n",
    "        return self.word2index.get(item, self.UNK)\n",
    "\n",
    "    def __len__(self):\n",
    "        return len(self.index2word)\n",
    "\n",
    "    def size(self):\n",
    "        \"\"\"Returns the total size of the vocabulary\"\"\"\n",
    "        return len(self.index2word)\n"
   ]
  },
  {
   "cell_type": "code",
   "execution_count": 1,
   "metadata": {},
   "outputs": [
    {
     "name": "stdout",
     "output_type": "stream",
     "text": [
      "-1\n",
      "0\n",
      "1\n",
      "2\n",
      "3\n",
      "4\n"
     ]
    }
   ],
   "source": [
    "for i in range(-1, 5):\n",
    "    print(i)"
   ]
  },
  {
   "cell_type": "code",
   "execution_count": 45,
   "metadata": {},
   "outputs": [],
   "source": [
    "v.add_words('a b c d '.split(' '))"
   ]
  },
  {
   "cell_type": "code",
   "execution_count": 46,
   "metadata": {},
   "outputs": [
    {
     "data": {
      "text/plain": [
       "4"
      ]
     },
     "execution_count": 46,
     "metadata": {},
     "output_type": "execute_result"
    }
   ],
   "source": [
    "v['a']"
   ]
  },
  {
   "cell_type": "code",
   "execution_count": 11,
   "metadata": {},
   "outputs": [
    {
     "name": "stdout",
     "output_type": "stream",
     "text": [
      "1\n",
      "2\n",
      "3\n",
      "4\n"
     ]
    },
    {
     "data": {
      "text/plain": [
       "[1, 5, 7, 8, 9, 10]"
      ]
     },
     "execution_count": 11,
     "metadata": {},
     "output_type": "execute_result"
    }
   ],
   "source": [
    "def partition(arr,low,high): \n",
    "    i = ( low-1 )         # 最小元素索引\n",
    "    pivot = arr[high]     \n",
    "  \n",
    "    for j in range(low , high): \n",
    "  \n",
    "        # 当前元素小于或等于 pivot \n",
    "        if   arr[j] <= pivot: \n",
    "          \n",
    "            i = i+1 \n",
    "            arr[i],arr[j] = arr[j],arr[i] \n",
    "  \n",
    "    arr[i+1],arr[high] = arr[high],arr[i+1] \n",
    "    return ( i+1 ) \n",
    "  \n",
    " \n",
    "# arr[] --> 排序数组\n",
    "# low  --> 起始索引\n",
    "# high  --> 结束索引\n",
    "  \n",
    "# 快速排序函数\n",
    "def quickSort(arr,low,high): \n",
    "    if low >= high: return\n",
    "    \n",
    "    pi = partition(arr,low,high) \n",
    "    quickSort(arr, low, pi-1) \n",
    "    quickSort(arr, pi+1, high) \n",
    "  \n",
    "arr = [10, 7, 8, 9, 1, 5] \n",
    "n = len(arr) \n",
    "quickSort(arr,0,n-1) \n",
    "arr"
   ]
  }
 ],
 "metadata": {
  "kernelspec": {
   "display_name": "Python 3",
   "language": "python",
   "name": "python3"
  },
  "language_info": {
   "codemirror_mode": {
    "name": "ipython",
    "version": 3
   },
   "file_extension": ".py",
   "mimetype": "text/x-python",
   "name": "python",
   "nbconvert_exporter": "python",
   "pygments_lexer": "ipython3",
   "version": "3.7.6"
  }
 },
 "nbformat": 4,
 "nbformat_minor": 4
}
